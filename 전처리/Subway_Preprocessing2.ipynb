{
 "cells": [
  {
   "cell_type": "code",
   "execution_count": 2,
   "metadata": {},
   "outputs": [],
   "source": [
    "import pandas as pd\n",
    "import numpy as np"
   ]
  },
  {
   "cell_type": "code",
   "execution_count": 3,
   "metadata": {},
   "outputs": [
    {
     "output_type": "error",
     "ename": "NameError",
     "evalue": "name 'station_in_bucheon' is not defined",
     "traceback": [
      "\u001b[1;31m---------------------------------------------------------------------------\u001b[0m",
      "\u001b[1;31mNameError\u001b[0m                                 Traceback (most recent call last)",
      "\u001b[1;32m<ipython-input-3-4ca901c290c7>\u001b[0m in \u001b[0;36m<module>\u001b[1;34m\u001b[0m\n\u001b[0;32m      3\u001b[0m \u001b[0mdf\u001b[0m \u001b[1;33m=\u001b[0m \u001b[0mpd\u001b[0m\u001b[1;33m.\u001b[0m\u001b[0mread_csv\u001b[0m\u001b[1;33m(\u001b[0m\u001b[1;34m'서울교통공사승하차인원(20200101_20200229).csv'\u001b[0m\u001b[1;33m,\u001b[0m \u001b[0mencoding\u001b[0m\u001b[1;33m=\u001b[0m\u001b[1;34m'euc-kr'\u001b[0m\u001b[1;33m)\u001b[0m\u001b[1;33m\u001b[0m\u001b[1;33m\u001b[0m\u001b[0m\n\u001b[0;32m      4\u001b[0m \u001b[1;31m#del df['역번호']\u001b[0m\u001b[1;33m\u001b[0m\u001b[1;33m\u001b[0m\u001b[1;33m\u001b[0m\u001b[0m\n\u001b[1;32m----> 5\u001b[1;33m \u001b[0mdf\u001b[0m\u001b[1;33m[\u001b[0m\u001b[0mdf\u001b[0m\u001b[1;33m[\u001b[0m\u001b[1;34m'역명'\u001b[0m\u001b[1;33m]\u001b[0m\u001b[1;33m.\u001b[0m\u001b[0misin\u001b[0m\u001b[1;33m(\u001b[0m\u001b[0mstation_in_bucheon\u001b[0m\u001b[1;33m)\u001b[0m\u001b[1;33m]\u001b[0m\u001b[1;33m\u001b[0m\u001b[1;33m\u001b[0m\u001b[0m\n\u001b[0m",
      "\u001b[1;31mNameError\u001b[0m: name 'station_in_bucheon' is not defined"
     ]
    }
   ],
   "source": [
    "# 데이터 Load\n",
    "# encoding='euc-kr' : 한글 데이터를 불러올 수 있게 한다.\n",
    "df = pd.read_csv('서울교통공사승하차인원(20200101_20200229).csv', encoding='euc-kr')\n",
    "#del df['역번호']\n",
    "df[df['역명'].isin(station_in_bucheon)]"
   ]
  },
  {
   "cell_type": "code",
   "execution_count": null,
   "metadata": {},
   "outputs": [],
   "source": [
    "# 2020-10-01 ~ 2020-11-30 까지의 데이터 사용\n",
    "start_date = '2020-10-01'\n",
    "end_date = '2020-11-30'\n",
    "df_d = df[(df['날짜'] >= start_date) & (df['날짜'] <= end_date)]"
   ]
  },
  {
   "cell_type": "code",
   "execution_count": null,
   "metadata": {},
   "outputs": [],
   "source": [
    "# 부천의 데이터 사용\n",
    "station_in_bucheon = ('까치울','부천종합운동장','춘의','신중동','부천시청','상동')\n",
    "df_db = df_d[ df_d.역명.isin(station_in_bucheon) ]"
   ]
  },
  {
   "cell_type": "code",
   "execution_count": null,
   "metadata": {},
   "outputs": [],
   "source": [
    "# 날짜별, 역별로 승하차 데이터 합치기\n",
    "df_dbd = df_db.groupby(by=['날짜', '역명'], as_index=False).sum()\n",
    "\n",
    "# 날짜별로 승하차 데이터 합치기\n",
    "#df_dbd = df_db.groupby(by=['날짜'], as_index=False).sum()"
   ]
  },
  {
   "cell_type": "code",
   "execution_count": null,
   "metadata": {},
   "outputs": [],
   "source": [
    "# 모든 시간대의 승하차 데이터 합치기\n",
    "df_dbd['승하차총원'] = df_dbd.apply(lambda x: sum(x[2:22]), axis=1)\n",
    "df_dbds = df_dbd.iloc[:,[0,1,-1]]"
   ]
  },
  {
   "cell_type": "code",
   "execution_count": null,
   "metadata": {},
   "outputs": [],
   "source": [
    "df_dbds"
   ]
  },
  {
   "cell_type": "code",
   "execution_count": 9,
   "metadata": {},
   "outputs": [],
   "source": [
    "def subway_passenger_date(csv_path, start_date='2020-11-01', end_date='2020-11-30', per_station=False) :\n",
    "    # 파일 읽기 및 불필요 column삭제\n",
    "    df = pd.read_csv(csv_path, encoding='euc-kr')\n",
    "    del df['역번호']\n",
    "\n",
    "    # 조회 기간에 해당하는 행 조회\n",
    "    df_d = df[(df['날짜'] >= start_date) & (df['날짜'] <= end_date)]\n",
    "    \n",
    "    # 부천의 역들의 통계만 보도록 한다.\n",
    "    station_in_bucheon = ('까치울','부천종합운동장','춘의','신중동','부천시청','상동')\n",
    "    df_db = df_d[ df_d.역명.isin(station_in_bucheon) ]\n",
    "    \n",
    "    if per_station:\n",
    "        # 날짜별, 역별로 승하차 데이터 합치기\n",
    "        df_dbd = df_db.groupby(by=['날짜', '역명'], as_index=False).sum()\n",
    "        df_dbd['승하차총원'] = df_dbd.apply(lambda x : sum(x[2:22]), axis=1)\n",
    "        df_dbds = df_dbd.iloc[:,[0,1,-1]]\n",
    "    else:\n",
    "        # 날짜별로 승하차 데이터 합치기\n",
    "        df_dbd = df_db.groupby(by=['날짜'], as_index=False).sum()\n",
    "        df_dbd['승하차총원'] = df_dbd.apply(lambda x: sum(x[1:21]), axis=1)\n",
    "        df_dbds = df_dbd.iloc[:,[0,-1]]\n",
    "    \n",
    "    return df_dbds"
   ]
  },
  {
   "cell_type": "code",
   "execution_count": 12,
   "metadata": {},
   "outputs": [],
   "source": [
    "subway_passenger_date('서울교통공사승하차인원(20200101_20200229).csv',\n",
    "                        start_date='2020-01-01',\n",
    "                        end_date='2020-10-31').to_csv('승하차총원.csv', header=True)"
   ]
  },
  {
   "cell_type": "code",
   "execution_count": null,
   "metadata": {},
   "outputs": [],
   "source": [
    "def subway_passenger_date(csv_path, start_date='2020-11-01', end_date='2020-11-30', per_station=False) :\n",
    "    # 파일 읽기 및 불필요 column삭제\n",
    "    df = pd.read_csv(csv_path, encoding='euc-kr')\n",
    "    del df['역번호']\n",
    "\n",
    "    # 조회 기간에 해당하는 행 조회\n",
    "    df_d = df[(df['날짜'] >= start_date) & (df['날짜'] <= end_date)]\n",
    "    \n",
    "    # 부천의 역들의 통계만 보도록 한다.\n",
    "    station_in_bucheon = ('까치울','부천종합운동장','춘의','신중동','부천시청','상동')\n",
    "    df_db = df_d[ df_d.역명.isin(station_in_bucheon) ]\n",
    "    \n",
    "    # 날짜별로 승하차 데이터 합치기\n",
    "    df_dbd = df_db.groupby(by=['날짜'], as_index=False).sum()\n",
    "    df_dbd['승하차총원'] = df_dbd.apply(lambda x: sum(x[1:21]), axis=1)\n",
    "    df_dbds = df_dbd.iloc[:,[0,-1]]\n",
    "    \n",
    "    return df_dbds"
   ]
  }
 ],
 "metadata": {
  "kernelspec": {
   "display_name": "Python 3",
   "language": "python",
   "name": "python3"
  },
  "language_info": {
   "codemirror_mode": {
    "name": "ipython",
    "version": 3
   },
   "file_extension": ".py",
   "mimetype": "text/x-python",
   "name": "python",
   "nbconvert_exporter": "python",
   "pygments_lexer": "ipython3",
   "version": "3.6.10-final"
  }
 },
 "nbformat": 4,
 "nbformat_minor": 4
}