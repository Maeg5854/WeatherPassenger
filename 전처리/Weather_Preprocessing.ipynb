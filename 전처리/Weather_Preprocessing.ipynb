{
 "metadata": {
  "language_info": {
   "codemirror_mode": {
    "name": "ipython",
    "version": 3
   },
   "file_extension": ".py",
   "mimetype": "text/x-python",
   "name": "python",
   "nbconvert_exporter": "python",
   "pygments_lexer": "ipython3",
   "version": "3.6.10-final"
  },
  "orig_nbformat": 2,
  "kernelspec": {
   "name": "python3",
   "display_name": "Python 3"
  }
 },
 "nbformat": 4,
 "nbformat_minor": 2,
 "cells": [
  {
   "cell_type": "code",
   "execution_count": 1,
   "metadata": {},
   "outputs": [],
   "source": [
    "import pandas as pd\n",
    "import datetime as dt"
   ]
  },
  {
   "cell_type": "code",
   "execution_count": 61,
   "metadata": {},
   "outputs": [
    {
     "output_type": "execute_result",
     "data": {
      "text/plain": [
       "      format: day    hour  forecast  value  location:56_125 Start : 20200101 \n",
       "0               1   200.0       4.0                                       3.0\n",
       "1               1   200.0       7.0                                       5.0\n",
       "2               1   200.0      10.0                                       5.0\n",
       "3               1   500.0       4.0                                       5.0\n",
       "4               1   500.0       7.0                                       5.0\n",
       "...           ...     ...       ...                                       ...\n",
       "5799           31  2000.0       7.0                                      14.0\n",
       "5800           31  2000.0      10.0                                       9.0\n",
       "5801           31  2300.0       4.0                                      16.0\n",
       "5802           31  2300.0       7.0                                      14.0\n",
       "5803           31  2300.0      10.0                                       9.0\n",
       "\n",
       "[5804 rows x 4 columns]"
      ],
      "text/html": "<div>\n<style scoped>\n    .dataframe tbody tr th:only-of-type {\n        vertical-align: middle;\n    }\n\n    .dataframe tbody tr th {\n        vertical-align: top;\n    }\n\n    .dataframe thead th {\n        text-align: right;\n    }\n</style>\n<table border=\"1\" class=\"dataframe\">\n  <thead>\n    <tr style=\"text-align: right;\">\n      <th></th>\n      <th>format: day</th>\n      <th>hour</th>\n      <th>forecast</th>\n      <th>value  location:56_125 Start : 20200101</th>\n    </tr>\n  </thead>\n  <tbody>\n    <tr>\n      <th>0</th>\n      <td>1</td>\n      <td>200.0</td>\n      <td>4.0</td>\n      <td>3.0</td>\n    </tr>\n    <tr>\n      <th>1</th>\n      <td>1</td>\n      <td>200.0</td>\n      <td>7.0</td>\n      <td>5.0</td>\n    </tr>\n    <tr>\n      <th>2</th>\n      <td>1</td>\n      <td>200.0</td>\n      <td>10.0</td>\n      <td>5.0</td>\n    </tr>\n    <tr>\n      <th>3</th>\n      <td>1</td>\n      <td>500.0</td>\n      <td>4.0</td>\n      <td>5.0</td>\n    </tr>\n    <tr>\n      <th>4</th>\n      <td>1</td>\n      <td>500.0</td>\n      <td>7.0</td>\n      <td>5.0</td>\n    </tr>\n    <tr>\n      <th>...</th>\n      <td>...</td>\n      <td>...</td>\n      <td>...</td>\n      <td>...</td>\n    </tr>\n    <tr>\n      <th>5799</th>\n      <td>31</td>\n      <td>2000.0</td>\n      <td>7.0</td>\n      <td>14.0</td>\n    </tr>\n    <tr>\n      <th>5800</th>\n      <td>31</td>\n      <td>2000.0</td>\n      <td>10.0</td>\n      <td>9.0</td>\n    </tr>\n    <tr>\n      <th>5801</th>\n      <td>31</td>\n      <td>2300.0</td>\n      <td>4.0</td>\n      <td>16.0</td>\n    </tr>\n    <tr>\n      <th>5802</th>\n      <td>31</td>\n      <td>2300.0</td>\n      <td>7.0</td>\n      <td>14.0</td>\n    </tr>\n    <tr>\n      <th>5803</th>\n      <td>31</td>\n      <td>2300.0</td>\n      <td>10.0</td>\n      <td>9.0</td>\n    </tr>\n  </tbody>\n</table>\n<p>5804 rows × 4 columns</p>\n</div>"
     },
     "metadata": {},
     "execution_count": 61
    }
   ],
   "source": [
    "df = pd.read_csv('심곡1동_일최고기온_202001_202010.csv')\n",
    "df"
   ]
  },
  {
   "cell_type": "code",
   "execution_count": 36,
   "metadata": {},
   "outputs": [],
   "source": [
    "def change_to_dateformat(arr):\n",
    "    global previous_day\n",
    "    global current_month\n",
    "    global current_year\n",
    "    if arr['date'] < previous_day :\n",
    "        current_month = current_month + 1\n",
    "    previous_day = arr['date']\n",
    "    return str(dt.date(current_year, current_month, int(previous_day)))"
   ]
  },
  {
   "source": [
    "## 최고기온"
   ],
   "cell_type": "markdown",
   "metadata": {}
  },
  {
   "cell_type": "code",
   "execution_count": 161,
   "metadata": {},
   "outputs": [],
   "source": [
    "# 파일 읽어오기, 월 구분 memo 제거\n",
    "df = pd.read_csv('심곡1동_일최고기온_202001_202010.csv')\n",
    "df = df.rename(columns={df.columns[0]: 'date', str(df.columns[-1]) : 'highest temperature'})"
   ]
  },
  {
   "cell_type": "code",
   "execution_count": 162,
   "metadata": {},
   "outputs": [],
   "source": [
    "df['date'] = df['date'].map(lambda x : int(x.split()[-1]))\n",
    "df = df[df['date'] <= 31]"
   ]
  },
  {
   "cell_type": "code",
   "execution_count": 10,
   "metadata": {},
   "outputs": [
    {
     "output_type": "error",
     "ename": "NameError",
     "evalue": "name 'df' is not defined",
     "traceback": [
      "\u001b[1;31m---------------------------------------------------------------------------\u001b[0m",
      "\u001b[1;31mNameError\u001b[0m                                 Traceback (most recent call last)",
      "\u001b[1;32m<ipython-input-10-811ee2d03722>\u001b[0m in \u001b[0;36m<module>\u001b[1;34m\u001b[0m\n\u001b[0;32m     12\u001b[0m \u001b[1;33m\u001b[0m\u001b[0m\n\u001b[0;32m     13\u001b[0m \u001b[1;33m\u001b[0m\u001b[0m\n\u001b[1;32m---> 14\u001b[1;33m \u001b[0mdf\u001b[0m\u001b[1;33m[\u001b[0m\u001b[1;34m'date'\u001b[0m\u001b[1;33m]\u001b[0m \u001b[1;33m=\u001b[0m \u001b[0mdf\u001b[0m\u001b[1;33m.\u001b[0m\u001b[0mapply\u001b[0m\u001b[1;33m(\u001b[0m\u001b[0mchange_to_dateformat\u001b[0m\u001b[1;33m,\u001b[0m \u001b[0maxis\u001b[0m\u001b[1;33m=\u001b[0m\u001b[1;36m1\u001b[0m\u001b[1;33m)\u001b[0m\u001b[1;33m\u001b[0m\u001b[1;33m\u001b[0m\u001b[0m\n\u001b[0m",
      "\u001b[1;31mNameError\u001b[0m: name 'df' is not defined"
     ]
    }
   ],
   "source": [
    "# 날짜를 date 폼으로 변환\n",
    "previous_day = 1\n",
    "current_month= 1\n",
    "def change_to_dateformat(arr):\n",
    "    global previous_day\n",
    "    global current_month\n",
    "    global current_year\n",
    "    if arr['date'] < previous_day :\n",
    "        current_month = current_month + 1\n",
    "    previous_day = arr['date']\n",
    "    return str(dt.date(current_year, current_month, int(previous_day)))\n",
    "\n",
    "\n",
    "df['date'] = df.apply(change_to_dateformat, axis=1) "
   ]
  },
  {
   "cell_type": "code",
   "execution_count": 164,
   "metadata": {},
   "outputs": [
    {
     "output_type": "execute_result",
     "data": {
      "text/plain": [
       "            highest temperature\n",
       "date                           \n",
       "2020-01-01             5.105263\n",
       "2020-01-02             5.947368\n",
       "2020-01-03             5.947368\n",
       "2020-01-04             5.368421\n",
       "2020-01-05             5.368421\n",
       "...                         ...\n",
       "2020-10-27            16.578947\n",
       "2020-10-28            16.736842\n",
       "2020-10-29            17.263158\n",
       "2020-10-30            16.210526\n",
       "2020-10-31            14.157895\n",
       "\n",
       "[305 rows x 1 columns]"
      ],
      "text/html": "<div>\n<style scoped>\n    .dataframe tbody tr th:only-of-type {\n        vertical-align: middle;\n    }\n\n    .dataframe tbody tr th {\n        vertical-align: top;\n    }\n\n    .dataframe thead th {\n        text-align: right;\n    }\n</style>\n<table border=\"1\" class=\"dataframe\">\n  <thead>\n    <tr style=\"text-align: right;\">\n      <th></th>\n      <th>highest temperature</th>\n    </tr>\n    <tr>\n      <th>date</th>\n      <th></th>\n    </tr>\n  </thead>\n  <tbody>\n    <tr>\n      <th>2020-01-01</th>\n      <td>5.105263</td>\n    </tr>\n    <tr>\n      <th>2020-01-02</th>\n      <td>5.947368</td>\n    </tr>\n    <tr>\n      <th>2020-01-03</th>\n      <td>5.947368</td>\n    </tr>\n    <tr>\n      <th>2020-01-04</th>\n      <td>5.368421</td>\n    </tr>\n    <tr>\n      <th>2020-01-05</th>\n      <td>5.368421</td>\n    </tr>\n    <tr>\n      <th>...</th>\n      <td>...</td>\n    </tr>\n    <tr>\n      <th>2020-10-27</th>\n      <td>16.578947</td>\n    </tr>\n    <tr>\n      <th>2020-10-28</th>\n      <td>16.736842</td>\n    </tr>\n    <tr>\n      <th>2020-10-29</th>\n      <td>17.263158</td>\n    </tr>\n    <tr>\n      <th>2020-10-30</th>\n      <td>16.210526</td>\n    </tr>\n    <tr>\n      <th>2020-10-31</th>\n      <td>14.157895</td>\n    </tr>\n  </tbody>\n</table>\n<p>305 rows × 1 columns</p>\n</div>"
     },
     "metadata": {},
     "execution_count": 164
    }
   ],
   "source": [
    "# 일별 최고기온 = 최고기온의 평균값으로 계산\n",
    "#print()\n",
    "df = df.groupby(by=['date']).mean()\n",
    "df.iloc[:,[-1]]"
   ]
  },
  {
   "cell_type": "code",
   "execution_count": 45,
   "metadata": {},
   "outputs": [],
   "source": [
    "def highest_temperature_date(csv_path):\n",
    "    # 파일 읽어오기, 월 구분 memo 제거\n",
    "    df = pd.read_csv(csv_path)\n",
    "    df = df.rename(columns={df.columns[0]: 'date', str(df.columns[-1]) : 'highest temperature'})\n",
    "    df['date'] = df['date'].map(lambda x : int(x.split()[-1]))\n",
    "    df = df[(df['date'] <= 31) & (df['date'] >= 1)]\n",
    "    \n",
    "    # 4시간 전 예보로 축소\n",
    "    df = df[df['forecast'] <= 4]\n",
    "    \n",
    "    # 날짜를 date 폼으로 변환\n",
    "    global previous_day\n",
    "    global current_month\n",
    "    global current_year\n",
    "    previous_day = 1\n",
    "    current_month = 1\n",
    "    current_year = 2020\n",
    "    df['date'] = df.apply(change_to_dateformat, axis=1)\n",
    "\n",
    "    # 일별 최고기온 데이터 평균 계산 \n",
    "    df = df.groupby(by=['date']).mean()\n",
    "    return df.iloc[:,[-1]]"
   ]
  },
  {
   "cell_type": "code",
   "execution_count": 64,
   "metadata": {},
   "outputs": [],
   "source": [
    "highest_temperature_date('심곡1동_일최고기온_202001_202010.csv').to_csv('일최고기온.csv', header=True)"
   ]
  },
  {
   "source": [
    "## 최저기온"
   ],
   "cell_type": "markdown",
   "metadata": {}
  },
  {
   "cell_type": "code",
   "execution_count": 170,
   "metadata": {},
   "outputs": [],
   "source": [
    "# 파일 읽어오기, 월 구분 memo 제거\n",
    "df = pd.read_csv('심곡1동_일최저기온_202001_202010.csv')\n",
    "df = df.rename(columns={df.columns[0]: 'date', str(df.columns[-1]) : 'lowest temperature'})"
   ]
  },
  {
   "cell_type": "code",
   "execution_count": 171,
   "metadata": {},
   "outputs": [],
   "source": [
    "df['date'] = df['date'].map(lambda x : int(x.split()[-1]))\n",
    "df = df[df['date'] <= 31]"
   ]
  },
  {
   "cell_type": "code",
   "execution_count": 172,
   "metadata": {},
   "outputs": [],
   "source": [
    "# 날짜를 date 폼으로 변환\n",
    "previous_day = 1\n",
    "current_month= 1\n",
    "df['date'] = df.apply(change_to_dateformat, axis=1) "
   ]
  },
  {
   "cell_type": "code",
   "execution_count": 173,
   "metadata": {},
   "outputs": [
    {
     "output_type": "execute_result",
     "data": {
      "text/plain": [
       "            lowest temperature\n",
       "date                          \n",
       "2020-01-01              -2.125\n",
       "2020-01-02              -2.875\n",
       "2020-01-03              -2.625\n",
       "2020-01-04              -0.625\n",
       "2020-01-05               2.500\n",
       "...                        ...\n",
       "2020-10-27               6.750\n",
       "2020-10-28               5.500\n",
       "2020-10-29               8.000\n",
       "2020-10-30              10.000\n",
       "2020-10-31               8.375\n",
       "\n",
       "[305 rows x 1 columns]"
      ],
      "text/html": "<div>\n<style scoped>\n    .dataframe tbody tr th:only-of-type {\n        vertical-align: middle;\n    }\n\n    .dataframe tbody tr th {\n        vertical-align: top;\n    }\n\n    .dataframe thead th {\n        text-align: right;\n    }\n</style>\n<table border=\"1\" class=\"dataframe\">\n  <thead>\n    <tr style=\"text-align: right;\">\n      <th></th>\n      <th>lowest temperature</th>\n    </tr>\n    <tr>\n      <th>date</th>\n      <th></th>\n    </tr>\n  </thead>\n  <tbody>\n    <tr>\n      <th>2020-01-01</th>\n      <td>-2.125</td>\n    </tr>\n    <tr>\n      <th>2020-01-02</th>\n      <td>-2.875</td>\n    </tr>\n    <tr>\n      <th>2020-01-03</th>\n      <td>-2.625</td>\n    </tr>\n    <tr>\n      <th>2020-01-04</th>\n      <td>-0.625</td>\n    </tr>\n    <tr>\n      <th>2020-01-05</th>\n      <td>2.500</td>\n    </tr>\n    <tr>\n      <th>...</th>\n      <td>...</td>\n    </tr>\n    <tr>\n      <th>2020-10-27</th>\n      <td>6.750</td>\n    </tr>\n    <tr>\n      <th>2020-10-28</th>\n      <td>5.500</td>\n    </tr>\n    <tr>\n      <th>2020-10-29</th>\n      <td>8.000</td>\n    </tr>\n    <tr>\n      <th>2020-10-30</th>\n      <td>10.000</td>\n    </tr>\n    <tr>\n      <th>2020-10-31</th>\n      <td>8.375</td>\n    </tr>\n  </tbody>\n</table>\n<p>305 rows × 1 columns</p>\n</div>"
     },
     "metadata": {},
     "execution_count": 173
    }
   ],
   "source": [
    "df = df.groupby(by=['date']).mean()\n",
    "df.iloc[:,[-1]]"
   ]
  },
  {
   "cell_type": "code",
   "execution_count": 47,
   "metadata": {},
   "outputs": [],
   "source": [
    "def lowest_temperature_date(csv_path):\n",
    "    # 파일 읽어오기, 월 구분 memo 제거\n",
    "    df = pd.read_csv(csv_path)\n",
    "    df = df.rename(columns={df.columns[0]: 'date', str(df.columns[-1]) : 'lowest temperature'})\n",
    "    df['date'] = df['date'].map(lambda x : int(x.split()[-1]))\n",
    "    df = df[df['date'] <= 31]\n",
    "    \n",
    "    # 4시간 전 예보로 축소\n",
    "    df = df[df['forecast'] <= 4]\n",
    "\n",
    "    # 날짜를 date 폼으로 변환\n",
    "    global previous_day\n",
    "    global current_month\n",
    "    global current_year\n",
    "    previous_day = 1\n",
    "    current_month = 1\n",
    "    current_year = 2020\n",
    "    df['date'] = df.apply(change_to_dateformat, axis=1)\n",
    "\n",
    "    # 일별 최저기온 데이터 평균 계산 \n",
    "    df = df.groupby(by=['date']).mean()\n",
    "    return df.iloc[:,[-1]]"
   ]
  },
  {
   "cell_type": "code",
   "execution_count": 62,
   "metadata": {},
   "outputs": [],
   "source": [
    "lowest_temperature_date('심곡1동_일최저기온_202001_202010.csv').to_csv('일최저기온.csv', header=True)\n"
   ]
  },
  {
   "source": [
    "## 풍속"
   ],
   "cell_type": "markdown",
   "metadata": {}
  },
  {
   "cell_type": "code",
   "execution_count": 56,
   "metadata": {},
   "outputs": [],
   "source": [
    "def wind_speed_date(csv_path):\n",
    "    # 파일 읽어오기, 월 구분 memo 제거\n",
    "    df = pd.read_csv(csv_path)\n",
    "    df = df.rename(columns={df.columns[0]: 'date', str(df.columns[-1]) : 'wind_speed'})\n",
    "    df['date'] = df['date'].map(lambda x : int(x.split()[-1]))\n",
    "    df = df[df['date'] <= 31]\n",
    "    \n",
    "    # 4시간 전 예보로 축소\n",
    "    df = df[df['forecast'] <= 4]\n",
    "    \n",
    "    # 날짜를 date 폼으로 변환\n",
    "    global previous_day\n",
    "    global current_month\n",
    "    global current_year\n",
    "    previous_day = 1\n",
    "    current_month = 1\n",
    "    current_year = 2020\n",
    "    df['date'] = df.apply(change_to_dateformat, axis=1)\n",
    "\n",
    "    # 일별 최저기온 데이터 평균 계산 \n",
    "    df = df.groupby(by=['date']).mean()\n",
    "    return df.iloc[:,[-1]]"
   ]
  },
  {
   "cell_type": "code",
   "execution_count": 68,
   "metadata": {},
   "outputs": [],
   "source": [
    "wind_speed_date('심곡1동_풍속_202001_202010.csv').to_csv('풍속.csv', header=True)"
   ]
  },
  {
   "source": [
    "## 강수량"
   ],
   "cell_type": "markdown",
   "metadata": {}
  },
  {
   "cell_type": "code",
   "execution_count": 57,
   "metadata": {},
   "outputs": [],
   "source": [
    "def rain_possibility_date(csv_path):\n",
    "    # 파일 읽어오기, 월 구분 memo 제거\n",
    "    df = pd.read_csv(csv_path)\n",
    "    df = df.rename(columns={df.columns[0]: 'date', str(df.columns[-1]) : 'rain_possibility'})\n",
    "    df['date'] = df['date'].map(lambda x : int(x.split()[-1]))\n",
    "    df = df[df['date'] <= 31]\n",
    "    \n",
    "    # 4시간 전 예보로 축소\n",
    "    df = df[df['forecast'] <= 4]\n",
    "\n",
    "    # 날짜를 date 폼으로 변환\n",
    "    global previous_day\n",
    "    global current_month\n",
    "    global current_year\n",
    "    previous_day = 1\n",
    "    current_month = 1\n",
    "    current_year = 2020\n",
    "    df['date'] = df.apply(change_to_dateformat, axis=1)\n",
    "\n",
    "    # 일별 최저기온 데이터 평균 계산 \n",
    "    df = df.groupby(by=['date']).mean()\n",
    "    return df.iloc[:,[-1]]"
   ]
  },
  {
   "cell_type": "code",
   "execution_count": 66,
   "metadata": {},
   "outputs": [],
   "source": [
    "rain_possibility_date('심곡1동_강수확률_202001_202010.csv').to_csv('강수량.csv', header=True)"
   ]
  },
  {
   "cell_type": "code",
   "execution_count": null,
   "metadata": {},
   "outputs": [],
   "source": []
  }
 ]
}