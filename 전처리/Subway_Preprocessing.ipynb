{
 "cells": [
  {
   "cell_type": "code",
   "execution_count": 1,
   "metadata": {},
   "outputs": [],
   "source": [
    "import pandas as pd\n",
    "import numpy as np"
   ]
  },
  {
   "cell_type": "code",
   "execution_count": 157,
   "metadata": {},
   "outputs": [
    {
     "output_type": "execute_result",
     "data": {
      "text/plain": [
       "                날짜   호선   역번호       역명  구분  06:00 이전  06:00 ~ 07:00  \\\n",
       "498     2020-01-01  7호선  2753      까치울  승차        42             74   \n",
       "499     2020-01-01  7호선  2753      까치울  하차        10             87   \n",
       "500     2020-01-01  7호선  2754  부천종합운동장  승차        49             41   \n",
       "501     2020-01-01  7호선  2754  부천종합운동장  하차        24            148   \n",
       "502     2020-01-01  7호선  2755       춘의  승차        85            101   \n",
       "...            ...  ...   ...      ...  ..       ...            ...   \n",
       "168389  2020-10-31  7호선  2756      신중동  하차        72            166   \n",
       "168390  2020-10-31  7호선  2757     부천시청  승차       141            203   \n",
       "168391  2020-10-31  7호선  2757     부천시청  하차        70            174   \n",
       "168392  2020-10-31  7호선  2758       상동  승차       104            191   \n",
       "168393  2020-10-31  7호선  2758       상동  하차        62            174   \n",
       "\n",
       "        07:00 ~ 08:00  08:00 ~ 09:00  09:00 ~ 10:00  ...  15:00 ~ 16:00  \\\n",
       "498                89            142            182  ...            312   \n",
       "499                70             86             91  ...            239   \n",
       "500                62            218            156  ...            183   \n",
       "501               120             58             57  ...            127   \n",
       "502               118            176            207  ...            257   \n",
       "...               ...            ...            ...  ...            ...   \n",
       "168389            199            372            543  ...            630   \n",
       "168390            344            509            491  ...            700   \n",
       "168391            202            334            551  ...            665   \n",
       "168392            336            448            495  ...            804   \n",
       "168393            222            456            716  ...            803   \n",
       "\n",
       "        16:00 ~ 17:00  17:00 ~ 18:00  18:00 ~ 19:00  19:00 ~ 20:00  \\\n",
       "498               263            259            214            161   \n",
       "499               209            295            256            245   \n",
       "500               163            145            103            104   \n",
       "501               119            150            127            128   \n",
       "502               206            219            243            174   \n",
       "...               ...            ...            ...            ...   \n",
       "168389            695            874            848            682   \n",
       "168390            784            691            572            515   \n",
       "168391            742            740            724            627   \n",
       "168392            830            812            783            566   \n",
       "168393            790            697            881            544   \n",
       "\n",
       "        20:00 ~ 21:00  21:00 ~ 22:00  22:00 ~ 23:00  23:00 ~ 24:00  24:00 이후  \n",
       "498               140            133             68             24         1  \n",
       "499               219            258            219            182         0  \n",
       "500                72             81             47             11         1  \n",
       "501                90            113            101             96         1  \n",
       "502               132             87             86             29         0  \n",
       "...               ...            ...            ...            ...       ...  \n",
       "168389            526            492            418            351        68  \n",
       "168390            517            421            364            139         3  \n",
       "168391            422            418            364            307        66  \n",
       "168392            525            563            470            200         4  \n",
       "168393            394            388            355            285        83  \n",
       "\n",
       "[3660 rows x 25 columns]"
      ],
      "text/html": "<div>\n<style scoped>\n    .dataframe tbody tr th:only-of-type {\n        vertical-align: middle;\n    }\n\n    .dataframe tbody tr th {\n        vertical-align: top;\n    }\n\n    .dataframe thead th {\n        text-align: right;\n    }\n</style>\n<table border=\"1\" class=\"dataframe\">\n  <thead>\n    <tr style=\"text-align: right;\">\n      <th></th>\n      <th>날짜</th>\n      <th>호선</th>\n      <th>역번호</th>\n      <th>역명</th>\n      <th>구분</th>\n      <th>06:00 이전</th>\n      <th>06:00 ~ 07:00</th>\n      <th>07:00 ~ 08:00</th>\n      <th>08:00 ~ 09:00</th>\n      <th>09:00 ~ 10:00</th>\n      <th>...</th>\n      <th>15:00 ~ 16:00</th>\n      <th>16:00 ~ 17:00</th>\n      <th>17:00 ~ 18:00</th>\n      <th>18:00 ~ 19:00</th>\n      <th>19:00 ~ 20:00</th>\n      <th>20:00 ~ 21:00</th>\n      <th>21:00 ~ 22:00</th>\n      <th>22:00 ~ 23:00</th>\n      <th>23:00 ~ 24:00</th>\n      <th>24:00 이후</th>\n    </tr>\n  </thead>\n  <tbody>\n    <tr>\n      <th>498</th>\n      <td>2020-01-01</td>\n      <td>7호선</td>\n      <td>2753</td>\n      <td>까치울</td>\n      <td>승차</td>\n      <td>42</td>\n      <td>74</td>\n      <td>89</td>\n      <td>142</td>\n      <td>182</td>\n      <td>...</td>\n      <td>312</td>\n      <td>263</td>\n      <td>259</td>\n      <td>214</td>\n      <td>161</td>\n      <td>140</td>\n      <td>133</td>\n      <td>68</td>\n      <td>24</td>\n      <td>1</td>\n    </tr>\n    <tr>\n      <th>499</th>\n      <td>2020-01-01</td>\n      <td>7호선</td>\n      <td>2753</td>\n      <td>까치울</td>\n      <td>하차</td>\n      <td>10</td>\n      <td>87</td>\n      <td>70</td>\n      <td>86</td>\n      <td>91</td>\n      <td>...</td>\n      <td>239</td>\n      <td>209</td>\n      <td>295</td>\n      <td>256</td>\n      <td>245</td>\n      <td>219</td>\n      <td>258</td>\n      <td>219</td>\n      <td>182</td>\n      <td>0</td>\n    </tr>\n    <tr>\n      <th>500</th>\n      <td>2020-01-01</td>\n      <td>7호선</td>\n      <td>2754</td>\n      <td>부천종합운동장</td>\n      <td>승차</td>\n      <td>49</td>\n      <td>41</td>\n      <td>62</td>\n      <td>218</td>\n      <td>156</td>\n      <td>...</td>\n      <td>183</td>\n      <td>163</td>\n      <td>145</td>\n      <td>103</td>\n      <td>104</td>\n      <td>72</td>\n      <td>81</td>\n      <td>47</td>\n      <td>11</td>\n      <td>1</td>\n    </tr>\n    <tr>\n      <th>501</th>\n      <td>2020-01-01</td>\n      <td>7호선</td>\n      <td>2754</td>\n      <td>부천종합운동장</td>\n      <td>하차</td>\n      <td>24</td>\n      <td>148</td>\n      <td>120</td>\n      <td>58</td>\n      <td>57</td>\n      <td>...</td>\n      <td>127</td>\n      <td>119</td>\n      <td>150</td>\n      <td>127</td>\n      <td>128</td>\n      <td>90</td>\n      <td>113</td>\n      <td>101</td>\n      <td>96</td>\n      <td>1</td>\n    </tr>\n    <tr>\n      <th>502</th>\n      <td>2020-01-01</td>\n      <td>7호선</td>\n      <td>2755</td>\n      <td>춘의</td>\n      <td>승차</td>\n      <td>85</td>\n      <td>101</td>\n      <td>118</td>\n      <td>176</td>\n      <td>207</td>\n      <td>...</td>\n      <td>257</td>\n      <td>206</td>\n      <td>219</td>\n      <td>243</td>\n      <td>174</td>\n      <td>132</td>\n      <td>87</td>\n      <td>86</td>\n      <td>29</td>\n      <td>0</td>\n    </tr>\n    <tr>\n      <th>...</th>\n      <td>...</td>\n      <td>...</td>\n      <td>...</td>\n      <td>...</td>\n      <td>...</td>\n      <td>...</td>\n      <td>...</td>\n      <td>...</td>\n      <td>...</td>\n      <td>...</td>\n      <td>...</td>\n      <td>...</td>\n      <td>...</td>\n      <td>...</td>\n      <td>...</td>\n      <td>...</td>\n      <td>...</td>\n      <td>...</td>\n      <td>...</td>\n      <td>...</td>\n      <td>...</td>\n    </tr>\n    <tr>\n      <th>168389</th>\n      <td>2020-10-31</td>\n      <td>7호선</td>\n      <td>2756</td>\n      <td>신중동</td>\n      <td>하차</td>\n      <td>72</td>\n      <td>166</td>\n      <td>199</td>\n      <td>372</td>\n      <td>543</td>\n      <td>...</td>\n      <td>630</td>\n      <td>695</td>\n      <td>874</td>\n      <td>848</td>\n      <td>682</td>\n      <td>526</td>\n      <td>492</td>\n      <td>418</td>\n      <td>351</td>\n      <td>68</td>\n    </tr>\n    <tr>\n      <th>168390</th>\n      <td>2020-10-31</td>\n      <td>7호선</td>\n      <td>2757</td>\n      <td>부천시청</td>\n      <td>승차</td>\n      <td>141</td>\n      <td>203</td>\n      <td>344</td>\n      <td>509</td>\n      <td>491</td>\n      <td>...</td>\n      <td>700</td>\n      <td>784</td>\n      <td>691</td>\n      <td>572</td>\n      <td>515</td>\n      <td>517</td>\n      <td>421</td>\n      <td>364</td>\n      <td>139</td>\n      <td>3</td>\n    </tr>\n    <tr>\n      <th>168391</th>\n      <td>2020-10-31</td>\n      <td>7호선</td>\n      <td>2757</td>\n      <td>부천시청</td>\n      <td>하차</td>\n      <td>70</td>\n      <td>174</td>\n      <td>202</td>\n      <td>334</td>\n      <td>551</td>\n      <td>...</td>\n      <td>665</td>\n      <td>742</td>\n      <td>740</td>\n      <td>724</td>\n      <td>627</td>\n      <td>422</td>\n      <td>418</td>\n      <td>364</td>\n      <td>307</td>\n      <td>66</td>\n    </tr>\n    <tr>\n      <th>168392</th>\n      <td>2020-10-31</td>\n      <td>7호선</td>\n      <td>2758</td>\n      <td>상동</td>\n      <td>승차</td>\n      <td>104</td>\n      <td>191</td>\n      <td>336</td>\n      <td>448</td>\n      <td>495</td>\n      <td>...</td>\n      <td>804</td>\n      <td>830</td>\n      <td>812</td>\n      <td>783</td>\n      <td>566</td>\n      <td>525</td>\n      <td>563</td>\n      <td>470</td>\n      <td>200</td>\n      <td>4</td>\n    </tr>\n    <tr>\n      <th>168393</th>\n      <td>2020-10-31</td>\n      <td>7호선</td>\n      <td>2758</td>\n      <td>상동</td>\n      <td>하차</td>\n      <td>62</td>\n      <td>174</td>\n      <td>222</td>\n      <td>456</td>\n      <td>716</td>\n      <td>...</td>\n      <td>803</td>\n      <td>790</td>\n      <td>697</td>\n      <td>881</td>\n      <td>544</td>\n      <td>394</td>\n      <td>388</td>\n      <td>355</td>\n      <td>285</td>\n      <td>83</td>\n    </tr>\n  </tbody>\n</table>\n<p>3660 rows × 25 columns</p>\n</div>"
     },
     "metadata": {},
     "execution_count": 157
    }
   ],
   "source": [
    "# 데이터 Load\n",
    "# encoding='euc-kr' : 한글 데이터를 불러올 수 있게 한다.\n",
    "df = pd.read_csv('서울교통공사승하차인원(20200101_20200229).csv', encoding='euc-kr')\n",
    "#del df['역번호']\n",
    "df[df['역명'].isin(station_in_bucheon)]"
   ]
  },
  {
   "cell_type": "code",
   "execution_count": 133,
   "metadata": {},
   "outputs": [],
   "source": [
    "# 2020-10-01 ~ 2020-11-30 까지의 데이터 사용\n",
    "start_date = '2020-10-01'\n",
    "end_date = '2020-11-30'\n",
    "df_d = df[(df['날짜'] >= start_date) & (df['날짜'] <= end_date)]"
   ]
  },
  {
   "cell_type": "code",
   "execution_count": 134,
   "metadata": {},
   "outputs": [],
   "source": [
    "# 부천의 데이터 사용\n",
    "station_in_bucheon = ('까치울','부천종합운동장','춘의','신중동','부천시청','상동')\n",
    "df_db = df_d[ df_d.역명.isin(station_in_bucheon) ]"
   ]
  },
  {
   "cell_type": "code",
   "execution_count": 142,
   "metadata": {},
   "outputs": [],
   "source": [
    "# 날짜별, 역별로 승하차 데이터 합치기\n",
    "df_dbd = df_db.groupby(by=['날짜', '역명'], as_index=False).sum()\n",
    "\n",
    "# 날짜별로 승하차 데이터 합치기\n",
    "#df_dbd = df_db.groupby(by=['날짜'], as_index=False).sum()"
   ]
  },
  {
   "cell_type": "code",
   "execution_count": 147,
   "metadata": {},
   "outputs": [],
   "source": [
    "# 모든 시간대의 승하차 데이터 합치기\n",
    "df_dbd['승하차총원'] = df_dbd.apply(lambda x: sum(x[2:22]), axis=1)\n",
    "df_dbds = df_dbd.iloc[:,[0,1,-1]]"
   ]
  },
  {
   "cell_type": "code",
   "execution_count": 148,
   "metadata": {},
   "outputs": [
    {
     "output_type": "execute_result",
     "data": {
      "text/plain": [
       "             날짜       역명  승하차총원\n",
       "0    2020-10-01      까치울   4148\n",
       "1    2020-10-01     부천시청   5748\n",
       "2    2020-10-01  부천종합운동장   2577\n",
       "3    2020-10-01       상동   5855\n",
       "4    2020-10-01      신중동   6176\n",
       "..          ...      ...    ...\n",
       "181  2020-10-31     부천시청  18931\n",
       "182  2020-10-31  부천종합운동장   5969\n",
       "183  2020-10-31       상동  21390\n",
       "184  2020-10-31      신중동  19206\n",
       "185  2020-10-31       춘의  10107\n",
       "\n",
       "[186 rows x 3 columns]"
      ],
      "text/html": "<div>\n<style scoped>\n    .dataframe tbody tr th:only-of-type {\n        vertical-align: middle;\n    }\n\n    .dataframe tbody tr th {\n        vertical-align: top;\n    }\n\n    .dataframe thead th {\n        text-align: right;\n    }\n</style>\n<table border=\"1\" class=\"dataframe\">\n  <thead>\n    <tr style=\"text-align: right;\">\n      <th></th>\n      <th>날짜</th>\n      <th>역명</th>\n      <th>승하차총원</th>\n    </tr>\n  </thead>\n  <tbody>\n    <tr>\n      <th>0</th>\n      <td>2020-10-01</td>\n      <td>까치울</td>\n      <td>4148</td>\n    </tr>\n    <tr>\n      <th>1</th>\n      <td>2020-10-01</td>\n      <td>부천시청</td>\n      <td>5748</td>\n    </tr>\n    <tr>\n      <th>2</th>\n      <td>2020-10-01</td>\n      <td>부천종합운동장</td>\n      <td>2577</td>\n    </tr>\n    <tr>\n      <th>3</th>\n      <td>2020-10-01</td>\n      <td>상동</td>\n      <td>5855</td>\n    </tr>\n    <tr>\n      <th>4</th>\n      <td>2020-10-01</td>\n      <td>신중동</td>\n      <td>6176</td>\n    </tr>\n    <tr>\n      <th>...</th>\n      <td>...</td>\n      <td>...</td>\n      <td>...</td>\n    </tr>\n    <tr>\n      <th>181</th>\n      <td>2020-10-31</td>\n      <td>부천시청</td>\n      <td>18931</td>\n    </tr>\n    <tr>\n      <th>182</th>\n      <td>2020-10-31</td>\n      <td>부천종합운동장</td>\n      <td>5969</td>\n    </tr>\n    <tr>\n      <th>183</th>\n      <td>2020-10-31</td>\n      <td>상동</td>\n      <td>21390</td>\n    </tr>\n    <tr>\n      <th>184</th>\n      <td>2020-10-31</td>\n      <td>신중동</td>\n      <td>19206</td>\n    </tr>\n    <tr>\n      <th>185</th>\n      <td>2020-10-31</td>\n      <td>춘의</td>\n      <td>10107</td>\n    </tr>\n  </tbody>\n</table>\n<p>186 rows × 3 columns</p>\n</div>"
     },
     "metadata": {},
     "execution_count": 148
    }
   ],
   "source": [
    "df_dbds"
   ]
  },
  {
   "cell_type": "code",
   "execution_count": 149,
   "metadata": {},
   "outputs": [],
   "source": [
    "def subway_passenger_date(csv_path, start_date='2020-11-01', end_date='2020-11-30', per_station=False) :\n",
    "    # 파일 읽기 및 불필요 column삭제\n",
    "    df = pd.read_csv(csv_path, encoding='euc-kr')\n",
    "    del df['역번호']\n",
    "\n",
    "    # 조회 기간에 해당하는 행 조회\n",
    "    df_d = df[(df['날짜'] >= start_date) & (df['날짜'] <= end_date)]\n",
    "    \n",
    "    # 부천의 역들의 통계만 보도록 한다.\n",
    "    station_in_bucheon = ('까치울','부천종합운동장','춘의','신중동','부천시청','상동')\n",
    "    df_db = df_d[ df_d.역명.isin(station_in_bucheon) ]\n",
    "    \n",
    "    if per_station:\n",
    "        # 날짜별, 역별로 승하차 데이터 합치기\n",
    "        df_dbd = df_db.groupby(by=['날짜', '역명'], as_index=False).sum()\n",
    "        df_dbd['승하차총원'] = df_dbd.apply(lambda x : sum(x[2:22]), axis=1)\n",
    "        df_dbds = df_dbd.iloc[:,[0,1,-1]]\n",
    "    else:\n",
    "        # 날짜별로 승하차 데이터 합치기\n",
    "        df_dbd = df_db.groupby(by=['날짜'], as_index=False).sum()\n",
    "        df_dbd['승하차총원'] = df_dbd.apply(lambda x: sum(x[1:21]), axis=1)\n",
    "        df_dbds = df_dbd.iloc[:,[0,-1]]\n",
    "    \n",
    "    return df_dbds"
   ]
  },
  {
   "cell_type": "code",
   "execution_count": 154,
   "metadata": {},
   "outputs": [
    {
     "output_type": "execute_result",
     "data": {
      "text/plain": [
       "            날짜   승하차총원\n",
       "0   2020-10-01   28912\n",
       "1   2020-10-02   43476\n",
       "2   2020-10-03   52262\n",
       "3   2020-10-04   46623\n",
       "4   2020-10-05  115478\n",
       "5   2020-10-06  118100\n",
       "6   2020-10-07  118336\n",
       "7   2020-10-08  121150\n",
       "8   2020-10-09   70064\n",
       "9   2020-10-10   73257\n",
       "10  2020-10-11   50546\n",
       "11  2020-10-12  119017\n",
       "12  2020-10-13  120927\n",
       "13  2020-10-14  122730\n",
       "14  2020-10-15  121779\n",
       "15  2020-10-16  125485\n",
       "16  2020-10-17   83543\n",
       "17  2020-10-18   56249\n",
       "18  2020-10-19  120514\n",
       "19  2020-10-20  123690\n",
       "20  2020-10-21  123560\n",
       "21  2020-10-22  122924\n",
       "22  2020-10-23  128175\n",
       "23  2020-10-24   85441\n",
       "24  2020-10-25   58230\n",
       "25  2020-10-26  121595\n",
       "26  2020-10-27  123476\n",
       "27  2020-10-28  125042\n",
       "28  2020-10-29  123847\n",
       "29  2020-10-30  128369\n",
       "30  2020-10-31   86733"
      ],
      "text/html": "<div>\n<style scoped>\n    .dataframe tbody tr th:only-of-type {\n        vertical-align: middle;\n    }\n\n    .dataframe tbody tr th {\n        vertical-align: top;\n    }\n\n    .dataframe thead th {\n        text-align: right;\n    }\n</style>\n<table border=\"1\" class=\"dataframe\">\n  <thead>\n    <tr style=\"text-align: right;\">\n      <th></th>\n      <th>날짜</th>\n      <th>승하차총원</th>\n    </tr>\n  </thead>\n  <tbody>\n    <tr>\n      <th>0</th>\n      <td>2020-10-01</td>\n      <td>28912</td>\n    </tr>\n    <tr>\n      <th>1</th>\n      <td>2020-10-02</td>\n      <td>43476</td>\n    </tr>\n    <tr>\n      <th>2</th>\n      <td>2020-10-03</td>\n      <td>52262</td>\n    </tr>\n    <tr>\n      <th>3</th>\n      <td>2020-10-04</td>\n      <td>46623</td>\n    </tr>\n    <tr>\n      <th>4</th>\n      <td>2020-10-05</td>\n      <td>115478</td>\n    </tr>\n    <tr>\n      <th>5</th>\n      <td>2020-10-06</td>\n      <td>118100</td>\n    </tr>\n    <tr>\n      <th>6</th>\n      <td>2020-10-07</td>\n      <td>118336</td>\n    </tr>\n    <tr>\n      <th>7</th>\n      <td>2020-10-08</td>\n      <td>121150</td>\n    </tr>\n    <tr>\n      <th>8</th>\n      <td>2020-10-09</td>\n      <td>70064</td>\n    </tr>\n    <tr>\n      <th>9</th>\n      <td>2020-10-10</td>\n      <td>73257</td>\n    </tr>\n    <tr>\n      <th>10</th>\n      <td>2020-10-11</td>\n      <td>50546</td>\n    </tr>\n    <tr>\n      <th>11</th>\n      <td>2020-10-12</td>\n      <td>119017</td>\n    </tr>\n    <tr>\n      <th>12</th>\n      <td>2020-10-13</td>\n      <td>120927</td>\n    </tr>\n    <tr>\n      <th>13</th>\n      <td>2020-10-14</td>\n      <td>122730</td>\n    </tr>\n    <tr>\n      <th>14</th>\n      <td>2020-10-15</td>\n      <td>121779</td>\n    </tr>\n    <tr>\n      <th>15</th>\n      <td>2020-10-16</td>\n      <td>125485</td>\n    </tr>\n    <tr>\n      <th>16</th>\n      <td>2020-10-17</td>\n      <td>83543</td>\n    </tr>\n    <tr>\n      <th>17</th>\n      <td>2020-10-18</td>\n      <td>56249</td>\n    </tr>\n    <tr>\n      <th>18</th>\n      <td>2020-10-19</td>\n      <td>120514</td>\n    </tr>\n    <tr>\n      <th>19</th>\n      <td>2020-10-20</td>\n      <td>123690</td>\n    </tr>\n    <tr>\n      <th>20</th>\n      <td>2020-10-21</td>\n      <td>123560</td>\n    </tr>\n    <tr>\n      <th>21</th>\n      <td>2020-10-22</td>\n      <td>122924</td>\n    </tr>\n    <tr>\n      <th>22</th>\n      <td>2020-10-23</td>\n      <td>128175</td>\n    </tr>\n    <tr>\n      <th>23</th>\n      <td>2020-10-24</td>\n      <td>85441</td>\n    </tr>\n    <tr>\n      <th>24</th>\n      <td>2020-10-25</td>\n      <td>58230</td>\n    </tr>\n    <tr>\n      <th>25</th>\n      <td>2020-10-26</td>\n      <td>121595</td>\n    </tr>\n    <tr>\n      <th>26</th>\n      <td>2020-10-27</td>\n      <td>123476</td>\n    </tr>\n    <tr>\n      <th>27</th>\n      <td>2020-10-28</td>\n      <td>125042</td>\n    </tr>\n    <tr>\n      <th>28</th>\n      <td>2020-10-29</td>\n      <td>123847</td>\n    </tr>\n    <tr>\n      <th>29</th>\n      <td>2020-10-30</td>\n      <td>128369</td>\n    </tr>\n    <tr>\n      <th>30</th>\n      <td>2020-10-31</td>\n      <td>86733</td>\n    </tr>\n  </tbody>\n</table>\n</div>"
     },
     "metadata": {},
     "execution_count": 154
    }
   ],
   "source": [
    "subway_passenger_date('서울교통공사승하차인원(20200101_20200229).csv',\n",
    "                        start_date='2020-10-01',\n",
    "                        end_date='2020-10-31')"
   ]
  },
  {
   "cell_type": "code",
   "execution_count": null,
   "metadata": {},
   "outputs": [],
   "source": [
    "def subway_passenger_date(csv_path, start_date='2020-11-01', end_date='2020-11-30', per_station=False) :\n",
    "    # 파일 읽기 및 불필요 column삭제\n",
    "    df = pd.read_csv(csv_path, encoding='euc-kr')\n",
    "    del df['역번호']\n",
    "\n",
    "    # 조회 기간에 해당하는 행 조회\n",
    "    df_d = df[(df['날짜'] >= start_date) & (df['날짜'] <= end_date)]\n",
    "    \n",
    "    # 부천의 역들의 통계만 보도록 한다.\n",
    "    station_in_bucheon = ('까치울','부천종합운동장','춘의','신중동','부천시청','상동')\n",
    "    df_db = df_d[ df_d.역명.isin(station_in_bucheon) ]\n",
    "    \n",
    "    # 날짜별로 승하차 데이터 합치기\n",
    "    df_dbd = df_db.groupby(by=['날짜'], as_index=False).sum()\n",
    "    df_dbd['승하차총원'] = df_dbd.apply(lambda x: sum(x[1:21]), axis=1)\n",
    "    df_dbds = df_dbd.iloc[:,[0,-1]]\n",
    "    \n",
    "    return df_dbds"
   ]
  }
 ],
 "metadata": {
  "kernelspec": {
   "display_name": "Python 3",
   "language": "python",
   "name": "python3"
  },
  "language_info": {
   "codemirror_mode": {
    "name": "ipython",
    "version": 3
   },
   "file_extension": ".py",
   "mimetype": "text/x-python",
   "name": "python",
   "nbconvert_exporter": "python",
   "pygments_lexer": "ipython3",
   "version": "3.6.10-final"
  }
 },
 "nbformat": 4,
 "nbformat_minor": 4
}